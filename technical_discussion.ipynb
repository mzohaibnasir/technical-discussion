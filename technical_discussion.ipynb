{
  "nbformat": 4,
  "nbformat_minor": 0,
  "metadata": {
    "colab": {
      "provenance": [],
      "authorship_tag": "ABX9TyMOg8NDztvjY3gPzLZZkYdB",
      "include_colab_link": true
    },
    "kernelspec": {
      "name": "python3",
      "display_name": "Python 3"
    },
    "language_info": {
      "name": "python"
    }
  },
  "cells": [
    {
      "cell_type": "markdown",
      "metadata": {
        "id": "view-in-github",
        "colab_type": "text"
      },
      "source": [
        "<a href=\"https://colab.research.google.com/github/mzohaibnasir/technical-discussion/blob/main/technical_discussion.ipynb\" target=\"_parent\"><img src=\"https://colab.research.google.com/assets/colab-badge.svg\" alt=\"Open In Colab\"/></a>"
      ]
    },
    {
      "cell_type": "markdown",
      "source": [
        "## Ingest"
      ],
      "metadata": {
        "id": "TRh7My52vuuv"
      }
    },
    {
      "cell_type": "code",
      "execution_count": null,
      "metadata": {
        "id": "ktceAlUEvpfh"
      },
      "outputs": [],
      "source": []
    },
    {
      "cell_type": "markdown",
      "source": [
        "# Modeling"
      ],
      "metadata": {
        "id": "QP3mDNJ4v1Qa"
      }
    },
    {
      "cell_type": "code",
      "source": [],
      "metadata": {
        "id": "XBrkfCGtv26U"
      },
      "execution_count": null,
      "outputs": []
    },
    {
      "cell_type": "code",
      "source": [],
      "metadata": {
        "id": "jYHL3qHvwHDn"
      },
      "execution_count": null,
      "outputs": []
    },
    {
      "cell_type": "markdown",
      "source": [
        "### this is a markdown heading\n",
        "* #1\n",
        "** #2"
      ],
      "metadata": {
        "id": "UMEYH2ihwIQe"
      }
    },
    {
      "cell_type": "code",
      "source": [],
      "metadata": {
        "id": "J79tqS8hwMkt"
      },
      "execution_count": null,
      "outputs": []
    }
  ]
}